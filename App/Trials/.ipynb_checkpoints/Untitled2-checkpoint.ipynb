{
 "cells": [
  {
   "cell_type": "code",
   "execution_count": 8,
   "id": "informative-excuse",
   "metadata": {},
   "outputs": [],
   "source": [
    "import pandas as pd"
   ]
  },
  {
   "cell_type": "code",
   "execution_count": 9,
   "id": "noble-computer",
   "metadata": {},
   "outputs": [],
   "source": [
    "data = pd.read_pickle(\"episode_0_user_c1b30000-442a-4058-8af7-9da0091d1b87\")"
   ]
  },
  {
   "cell_type": "code",
   "execution_count": 10,
   "id": "separate-audit",
   "metadata": {},
   "outputs": [
    {
     "name": "stdout",
     "output_type": "stream",
     "text": [
      "{'userId': 'c1b30000-442a-4058-8af7-9da0091d1b87', 'projectId': '', 'frameCount': 1, 'frameId': 1, 'command': 'start', 'system': 'Windows', 'systemVersion': '10', 'browser': 'Chrome', 'browserVersion': '95', 'observation': array([-0.53750981, -0.00090246]), 'reward': -1.0, 'done': False, 'info': {}, 'agentAction': 0}\n"
     ]
    }
   ],
   "source": [
    "print(data)"
   ]
  },
  {
   "cell_type": "code",
   "execution_count": null,
   "id": "broke-emerald",
   "metadata": {},
   "outputs": [],
   "source": []
  }
 ],
 "metadata": {
  "kernelspec": {
   "display_name": "Python 3",
   "language": "python",
   "name": "python3"
  },
  "language_info": {
   "codemirror_mode": {
    "name": "ipython",
    "version": 3
   },
   "file_extension": ".py",
   "mimetype": "text/x-python",
   "name": "python",
   "nbconvert_exporter": "python",
   "pygments_lexer": "ipython3",
   "version": "3.8.3"
  }
 },
 "nbformat": 4,
 "nbformat_minor": 5
}
